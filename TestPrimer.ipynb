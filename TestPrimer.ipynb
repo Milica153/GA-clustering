{
 "cells": [
  {
   "cell_type": "code",
   "execution_count": 1,
   "id": "6875cd2f",
   "metadata": {},
   "outputs": [],
   "source": [
    "from GA_Clustering import GACluster\n",
    "from matplotlib import pyplot as plt\n",
    "import random\n",
    "import numpy as np\n",
    "from sklearn.metrics import silhouette_score"
   ]
  },
  {
   "cell_type": "code",
   "execution_count": 2,
   "id": "137ad77c",
   "metadata": {},
   "outputs": [],
   "source": [
    "points = [[6.5, 0], [9, 0], [10, 0], [15, 0], [16, 0], [18.5, 0]] "
   ]
  },
  {
   "cell_type": "code",
   "execution_count": 3,
   "id": "023c4bfe",
   "metadata": {},
   "outputs": [
    {
     "data": {
      "image/png": "[encoded data removed]",
      "text/plain": [
       "<Figure size 432x288 with 1 Axes>"
      ]
     },
     "metadata": {
      "needs_background": "light"
     },
     "output_type": "display_data"
    }
   ],
   "source": [
    "# Iscrtavanje tacaka\n",
    "xs, ys = list(map(lambda p: p[0], points)), list(map(lambda p: p[1], points))\n",
    "plt.scatter(xs, ys, c='orange')\n",
    "plt.show()"
   ]
  },
  {
   "cell_type": "code",
   "execution_count": 4,
   "id": "087bf955",
   "metadata": {},
   "outputs": [
    {
     "name": "stdout",
     "output_type": "stream",
     "text": [
      "3.0\n",
      "fig:  3.0 2 1\n"
     ]
    },
    {
     "name": "stderr",
     "output_type": "stream",
     "text": [
      "C:\\Users\\Windows\\Desktop\\riProjekat\\GA-clustering\\ga.py:203: MatplotlibDeprecationWarning: Passing non-integers as three-element position specification is deprecated since 3.3 and will be removed two minor releases later.\n",
      "  fig.add_subplot(n+1, 1, plt_ind )\n",
      "C:\\Users\\Windows\\Desktop\\riProjekat\\GA-clustering\\ga.py:30: RuntimeWarning: invalid value encountered in double_scalars\n",
      "  code[i] =  np.sum(clusters[i], axis=0)  / len(clusters[i])\n"
     ]
    },
    {
     "name": "stdout",
     "output_type": "stream",
     "text": [
      "fig:  3.0 2 2\n"
     ]
    },
    {
     "data": {
      "image/png": "[encoded data removed]",
      "text/plain": [
       "<Figure size 1080x1080 with 2 Axes>"
      ]
     },
     "metadata": {
      "needs_background": "light"
     },
     "output_type": "display_data"
    },
    {
     "name": "stdout",
     "output_type": "stream",
     "text": [
      "Labele: [1, 1, 1, 0, 0, 0]\n",
      "Centroidi: [array([16.5,  0. ]), array([8.5, 0. ])]\n",
      "SSE: 13.0\n"
     ]
    }
   ],
   "source": [
    "# Testiranje\n",
    "brojKlastera = 2\n",
    "model  = GACluster(brojKlastera, max_iter=10, population_size=19, category='roulette', distance = 'euclidean', mutation_rate=0.05)\n",
    "model.fit(points)\n",
    "print(f\"Labele: {model.labels_}\")\n",
    "print(f\"Centroidi: {model.cluster_centers_}\")\n",
    "print(\"SSE: {}\".format(model.inertia_))"
   ]
  },
  {
   "cell_type": "code",
   "execution_count": 5,
   "id": "48c9608e",
   "metadata": {},
   "outputs": [
    {
     "ename": "NameError",
     "evalue": "name 'euclidean_distances' is not defined",
     "output_type": "error",
     "traceback": [
      "\u001b[1;31m---------------------------------------------------------------------------\u001b[0m",
      "\u001b[1;31mNameError\u001b[0m                                 Traceback (most recent call last)",
      "\u001b[1;32m<ipython-input-5-a42ff35391f3>\u001b[0m in \u001b[0;36m<module>\u001b[1;34m\u001b[0m\n\u001b[1;32m----> 1\u001b[1;33m \u001b[0mmodel\u001b[0m\u001b[1;33m.\u001b[0m\u001b[0mcluster_centers_\u001b[0m\u001b[1;33m[\u001b[0m\u001b[1;36m0\u001b[0m\u001b[1;33m]\u001b[0m\u001b[1;33m,\u001b[0m \u001b[0mpoints\u001b[0m\u001b[1;33m[\u001b[0m\u001b[1;36m0\u001b[0m\u001b[1;33m]\u001b[0m\u001b[1;33m,\u001b[0m \u001b[0meuclidean_distances\u001b[0m\u001b[1;33m(\u001b[0m\u001b[0mmodel\u001b[0m\u001b[1;33m.\u001b[0m\u001b[0mcluster_centers_\u001b[0m\u001b[1;33m[\u001b[0m\u001b[1;36m0\u001b[0m\u001b[1;33m]\u001b[0m\u001b[1;33m,\u001b[0m \u001b[0mpoints\u001b[0m\u001b[1;33m[\u001b[0m\u001b[1;36m0\u001b[0m\u001b[1;33m]\u001b[0m\u001b[1;33m)\u001b[0m\u001b[1;33m,\u001b[0m \u001b[0mmodel\u001b[0m\u001b[1;33m.\u001b[0m\u001b[0minertia_\u001b[0m\u001b[1;33m\u001b[0m\u001b[1;33m\u001b[0m\u001b[0m\n\u001b[0m",
      "\u001b[1;31mNameError\u001b[0m: name 'euclidean_distances' is not defined"
     ]
    }
   ],
   "source": [
    "model.cluster_centers_[0], points[0], euclidean_distances(model.cluster_centers_[0], points[0]), model.inertia_"
   ]
  },
  {
   "cell_type": "code",
   "execution_count": null,
   "id": "ef650849",
   "metadata": {},
   "outputs": [],
   "source": [
    "from sklearn.cluster import KMeans"
   ]
  },
  {
   "cell_type": "code",
   "execution_count": null,
   "id": "d8fe7568",
   "metadata": {},
   "outputs": [],
   "source": [
    "model2 = KMeans(n_clusters=2)\n",
    "model2.fit(points)\n",
    "points, model2.labels_, model2.cluster_centers_, model2.inertia_"
   ]
  },
  {
   "cell_type": "code",
   "execution_count": null,
   "id": "58c37904",
   "metadata": {},
   "outputs": [],
   "source": [
    "euclidean_distances(points[0], model2.cluster_centers_[0]) + euclidean_distances(points[1], model2.cluster_centers_[0]) + euclidean_distances(points[2], model2.cluster_centers_[0]) + euclidean_distances(points[3], model2.cluster_centers_[1]) + euclidean_distances(points[4], model2.cluster_centers_[1]) + euclidean_distances(points[5], model2.cluster_centers_[1])"
   ]
  },
  {
   "cell_type": "markdown",
   "id": "27a4f217",
   "metadata": {},
   "source": [
    "## Testiranje na vecem skupu"
   ]
  },
  {
   "cell_type": "code",
   "execution_count": null,
   "id": "4685cd27",
   "metadata": {},
   "outputs": [],
   "source": [
    "x = [random.randint(0,20)  for i in range(30)]\n",
    "y = [random.randint(0,20)  for i in range(30)]\n",
    "xs1 = list(zip(x, y))\n",
    "plt.scatter(x,   y )\n",
    "\n",
    "x = [random.randint(20,40)  for i in range(30)]\n",
    "y = [random.randint(20,40)  for i in range(30)]\n",
    "xs2 = list(zip(x, y))\n",
    "plt.scatter(x,   y )\n",
    "xs = xs1 + xs2"
   ]
  },
  {
   "cell_type": "code",
   "execution_count": null,
   "id": "99eb6357",
   "metadata": {},
   "outputs": [],
   "source": [
    "points2 = xs"
   ]
  },
  {
   "cell_type": "code",
   "execution_count": null,
   "id": "8f068422",
   "metadata": {},
   "outputs": [],
   "source": [
    "model_2 = GACluster(n_clusters=3, max_iter=100, population_size=10, mutation_rate=0.2, category='roulette', distance = 'euclidean', elitism_size=4)"
   ]
  },
  {
   "cell_type": "code",
   "execution_count": null,
   "id": "3fa1365b",
   "metadata": {},
   "outputs": [],
   "source": [
    "model_2.fit(points2)"
   ]
  },
  {
   "cell_type": "code",
   "execution_count": null,
   "id": "034b2ecc",
   "metadata": {},
   "outputs": [],
   "source": [
    "#Crtanje dobijenog rezultata\n",
    "colors  =  {0:'r', 1:'b', 2:'m'}\n",
    "labels = model_2.labels_\n",
    "for i in range(len(points2)):\n",
    "    plt.scatter(points2[i][0], points2[i][1], c=colors[labels[i]])\n",
    "\n",
    "# Crtanje centroida\n",
    "centres = model_2.cluster_centers_\n",
    "for i in range(len(centres)):\n",
    "    plt.scatter(centres[i][0], centres[i][1], c='black', marker='X')"
   ]
  },
  {
   "cell_type": "code",
   "execution_count": null,
   "id": "7e7ce2b2",
   "metadata": {},
   "outputs": [],
   "source": [
    "## SSE \n",
    "model_2.inertia_"
   ]
  },
  {
   "cell_type": "markdown",
   "id": "21dcb33d",
   "metadata": {},
   "source": [
    "## K-Means"
   ]
  },
  {
   "cell_type": "code",
   "execution_count": null,
   "id": "1451ee6a",
   "metadata": {},
   "outputs": [],
   "source": [
    "from sklearn.cluster import KMeans"
   ]
  },
  {
   "cell_type": "code",
   "execution_count": null,
   "id": "5381cf3b",
   "metadata": {},
   "outputs": [],
   "source": [
    "model_k_means = KMeans(n_clusters=3, )"
   ]
  },
  {
   "cell_type": "code",
   "execution_count": null,
   "id": "native-village",
   "metadata": {},
   "outputs": [],
   "source": [
    "model_k_means.fit(points2)"
   ]
  },
  {
   "cell_type": "code",
   "execution_count": null,
   "id": "03829530",
   "metadata": {},
   "outputs": [],
   "source": [
    "labels = model_k_means.labels_\n",
    "labels"
   ]
  },
  {
   "cell_type": "code",
   "execution_count": null,
   "id": "f607a533",
   "metadata": {},
   "outputs": [],
   "source": [
    "cenntres = model_k_means.cluster_centers_\n",
    "cenntres"
   ]
  },
  {
   "cell_type": "code",
   "execution_count": null,
   "id": "dbc3b34f",
   "metadata": {},
   "outputs": [],
   "source": [
    "#Crtanje doijenog rezultata\n",
    "colors  =  {0:'r', 1:'b', 2:'m'}\n",
    "for i in range(len(points2)):\n",
    "    plt.scatter(points2[i][0], points2[i][1], c=colors[labels[i]])\n",
    "\n",
    "# Crtanje centroida\n",
    "for i in range(len(centres)):\n",
    "    plt.scatter(centres[i][0], centres[i][1], c='black', marker='X')"
   ]
  },
  {
   "cell_type": "code",
   "execution_count": null,
   "id": "e119a3e1",
   "metadata": {},
   "outputs": [],
   "source": [
    "## SSE\n",
    "model_k_means.inertia_"
   ]
  },
  {
   "cell_type": "code",
   "execution_count": null,
   "id": "billion-programmer",
   "metadata": {},
   "outputs": [],
   "source": [
    "from numpy import linalg as LA"
   ]
  },
  {
   "cell_type": "code",
   "execution_count": null,
   "id": "d709ccc4",
   "metadata": {},
   "outputs": [],
   "source": [
    "LA.norm([3,4])"
   ]
  },
  {
   "cell_type": "code",
   "execution_count": null,
   "id": "309b5985",
   "metadata": {},
   "outputs": [],
   "source": [
    "type(points2), points2[0]"
   ]
  },
  {
   "cell_type": "markdown",
   "id": "bfd076a7",
   "metadata": {},
   "source": [
    "### Skup 1 za testiranje"
   ]
  },
  {
   "cell_type": "code",
   "execution_count": null,
   "id": "f3572e6c",
   "metadata": {},
   "outputs": [],
   "source": [
    "from sklearn.datasets import make_blobs"
   ]
  },
  {
   "cell_type": "code",
   "execution_count": null,
   "id": "5db2fda0",
   "metadata": {},
   "outputs": [],
   "source": [
    "n_samples = 1500\n",
    "random_state = 100\n",
    "X, labels = make_blobs(n_samples=n_samples, random_state=random_state)\n",
    "colors = np.array(['r', 'g', 'b', 'y', 'p'])"
   ]
  },
  {
   "cell_type": "code",
   "execution_count": null,
   "id": "21149224",
   "metadata": {},
   "outputs": [],
   "source": [
    "len(X), X[0]"
   ]
  },
  {
   "cell_type": "code",
   "execution_count": null,
   "id": "7276f385",
   "metadata": {},
   "outputs": [],
   "source": [
    "plt.figure(figsize=(12,12))\n",
    "plt.subplot(221)\n",
    "_ = plt.scatter(X[:, 0], X[:, 1],c = colors[labels]) #Pocetno stanje, Ovakvo klasterovanje zelim da dobijem"
   ]
  },
  {
   "cell_type": "code",
   "execution_count": null,
   "id": "687d1837",
   "metadata": {},
   "outputs": [],
   "source": [
    "X = list(map(lambda p: tuple(p), X))"
   ]
  },
  {
   "cell_type": "markdown",
   "id": "368fda0b",
   "metadata": {},
   "source": [
    "###  Parametri za testiranje"
   ]
  },
  {
   "cell_type": "markdown",
   "id": "8850184d",
   "metadata": {},
   "source": [
    "| max_iter | pop_size | category | t_size | mutation_rate | elitism_size |    sse   | silhouette_coef |  K_Means_silhouette | K_means siluette\n",
    "| :------: | :------: | :-------:| :-----:| :-----------: | :-----------:| :-----------:| :-----------:|:-----------:|:-----------:|\n",
    "| 10      |    4    | roulette |  /     |   0.05        |      2       |    3095         |   0.838 | 3095 | 0.838 |\n",
    "| 4      |    4    | roulette |  /     |   0.1        |      2       |    3095         |   0.838 | 3095 | 0.838 |\n",
    "| 4      |    4    | tournament |  2     |   0.05        |      2       |    3095         |   0.838 | 3095 | 0.838 |\n",
    "| 10      |    10    | tournament |    2   |   0.1        |      2       |    3095         |   0.838 | 3095 | 0.838 |\n"
   ]
  },
  {
   "cell_type": "markdown",
   "id": "a9c96407",
   "metadata": {},
   "source": [
    "* Na ovako lepo razdvojena 3 kalstera algoritam je u stanju da brzo nadje 'optimalne' centroide\n",
    "* Dakle, nema smisla povecavati broj iteracija ili velicinu populacije\n",
    "* Algoritam je nasao iste centroide kao KMeans"
   ]
  },
  {
   "cell_type": "markdown",
   "id": "018a1649",
   "metadata": {},
   "source": [
    "### 1)"
   ]
  },
  {
   "cell_type": "code",
   "execution_count": null,
   "id": "633426d0",
   "metadata": {},
   "outputs": [],
   "source": [
    "model = GACluster(n_clusters=3, max_iter=10, population_size=4, mutation_rate=0.05, elitism_size=2)"
   ]
  },
  {
   "cell_type": "code",
   "execution_count": null,
   "id": "8bf1eee0",
   "metadata": {},
   "outputs": [],
   "source": [
    "model.fit(X)"
   ]
  },
  {
   "cell_type": "code",
   "execution_count": null,
   "id": "9664892c",
   "metadata": {},
   "outputs": [],
   "source": [
    "model.inertia_"
   ]
  },
  {
   "cell_type": "code",
   "execution_count": null,
   "id": "c92c0c79",
   "metadata": {},
   "outputs": [],
   "source": [
    "silhouette_score(X, model.labels_)"
   ]
  },
  {
   "cell_type": "code",
   "execution_count": null,
   "id": "26940145",
   "metadata": {},
   "outputs": [],
   "source": [
    "#Plots\n",
    "#TODO"
   ]
  },
  {
   "cell_type": "markdown",
   "id": "277cc2dc",
   "metadata": {},
   "source": [
    "### 2)"
   ]
  },
  {
   "cell_type": "code",
   "execution_count": null,
   "id": "a2d747e0",
   "metadata": {},
   "outputs": [],
   "source": [
    "model = GACluster(n_clusters=3, max_iter=4, population_size=4, mutation_rate=0.05, elitism_size=2)"
   ]
  },
  {
   "cell_type": "code",
   "execution_count": null,
   "id": "521dc4cf",
   "metadata": {},
   "outputs": [],
   "source": [
    "model.fit(X)"
   ]
  },
  {
   "cell_type": "code",
   "execution_count": null,
   "id": "051b1763",
   "metadata": {},
   "outputs": [],
   "source": [
    "model.inertia_"
   ]
  },
  {
   "cell_type": "code",
   "execution_count": null,
   "id": "f4380ac8",
   "metadata": {},
   "outputs": [],
   "source": [
    "silhouette_score(X, labels=model.labels_)"
   ]
  },
  {
   "cell_type": "code",
   "execution_count": null,
   "id": "d5586496",
   "metadata": {},
   "outputs": [],
   "source": [
    "#Plots \n",
    "#TODO"
   ]
  },
  {
   "cell_type": "markdown",
   "id": "853a4341",
   "metadata": {},
   "source": [
    "### 3)"
   ]
  },
  {
   "cell_type": "code",
   "execution_count": null,
   "id": "b4ae25c0",
   "metadata": {},
   "outputs": [],
   "source": [
    "model = GACluster(n_clusters=3, max_iter=4, category='tournament',population_size=4, mutation_rate=0.05, elitism_size=2)"
   ]
  },
  {
   "cell_type": "code",
   "execution_count": null,
   "id": "1f158718",
   "metadata": {},
   "outputs": [],
   "source": [
    "model.fit(X)"
   ]
  },
  {
   "cell_type": "code",
   "execution_count": null,
   "id": "ef97a1ac",
   "metadata": {},
   "outputs": [],
   "source": [
    "model.inertia_"
   ]
  },
  {
   "cell_type": "code",
   "execution_count": null,
   "id": "b1bdb367",
   "metadata": {},
   "outputs": [],
   "source": [
    "silhouette_score(X, labels=model.labels_)"
   ]
  },
  {
   "cell_type": "code",
   "execution_count": null,
   "id": "1a149921",
   "metadata": {},
   "outputs": [],
   "source": [
    "#Plots\n",
    "#TODO"
   ]
  },
  {
   "cell_type": "markdown",
   "id": "e477b770",
   "metadata": {},
   "source": [
    "### 4)"
   ]
  },
  {
   "cell_type": "code",
   "execution_count": null,
   "id": "1bcbda0a",
   "metadata": {},
   "outputs": [],
   "source": [
    "model = GACluster(n_clusters=3, max_iter=10, category='tournament',population_size=10, mutation_rate=0.1, elitism_size=2)"
   ]
  },
  {
   "cell_type": "code",
   "execution_count": null,
   "id": "e1de8f76",
   "metadata": {},
   "outputs": [],
   "source": [
    "model.fit(X)"
   ]
  },
  {
   "cell_type": "code",
   "execution_count": null,
   "id": "42cfd51d",
   "metadata": {},
   "outputs": [],
   "source": [
    "model.inertia_"
   ]
  },
  {
   "cell_type": "code",
   "execution_count": null,
   "id": "775ad21d",
   "metadata": {},
   "outputs": [],
   "source": [
    "silhouette_score(X, labels=model.labels_)"
   ]
  },
  {
   "cell_type": "code",
   "execution_count": null,
   "id": "ff9c163c",
   "metadata": {},
   "outputs": [],
   "source": [
    "# Plots\n",
    "# TODO"
   ]
  }
 ],
 "metadata": {
  "kernelspec": {
   "display_name": "Python 3",
   "language": "python",
   "name": "python3"
  },
  "language_info": {
   "codemirror_mode": {
    "name": "ipython",
    "version": 3
   },
   "file_extension": ".py",
   "mimetype": "text/x-python",
   "name": "python",
   "nbconvert_exporter": "python",
   "pygments_lexer": "ipython3",
   "version": "3.9.2"
  }
 },
 "nbformat": 4,
 "nbformat_minor": 5
}
